{
  "nbformat": 4,
  "nbformat_minor": 0,
  "metadata": {
    "kernelspec": {
      "language": "python",
      "display_name": "Python 3",
      "name": "python3"
    },
    "language_info": {
      "name": "python",
      "version": "3.7.10",
      "mimetype": "text/x-python",
      "codemirror_mode": {
        "name": "ipython",
        "version": 3
      },
      "pygments_lexer": "ipython3",
      "nbconvert_exporter": "python",
      "file_extension": ".py"
    },
    "colab": {
      "name": "Exploratory Data Analysis of Mercedes Cars.ipynb",
      "provenance": [],
      "include_colab_link": true
    }
  },
  "cells": [
    {
      "cell_type": "markdown",
      "metadata": {
        "id": "view-in-github",
        "colab_type": "text"
      },
      "source": [
        "<a href=\"https://colab.research.google.com/github/Manikandan-professional/Exploratory_Data_Analysis_of_Mercedes_Cars/blob/main/Exploratory_Data_Analysis_of_Mercedes_Cars.ipynb\" target=\"_parent\"><img src=\"https://colab.research.google.com/assets/colab-badge.svg\" alt=\"Open In Colab\"/></a>"
      ]
    },
    {
      "cell_type": "code",
      "metadata": {
        "execution": {
          "iopub.status.busy": "2021-09-28T08:34:07.084946Z",
          "iopub.execute_input": "2021-09-28T08:34:07.085324Z",
          "iopub.status.idle": "2021-09-28T08:34:08.237372Z",
          "shell.execute_reply.started": "2021-09-28T08:34:07.085279Z",
          "shell.execute_reply": "2021-09-28T08:34:08.236390Z"
        },
        "trusted": true,
        "id": "taXZcDhaxcjj"
      },
      "source": [
        "import matplotlib.pyplot as plt\n",
        "import seaborn as sns\n",
        "import numpy as np \n",
        "import pandas as pd"
      ],
      "execution_count": 7,
      "outputs": []
    },
    {
      "cell_type": "markdown",
      "metadata": {
        "id": "yqESoZLtxcjj"
      },
      "source": [
        "**Reading the csv file**"
      ]
    },
    {
      "cell_type": "code",
      "metadata": {
        "execution": {
          "iopub.status.busy": "2021-09-28T08:34:08.238806Z",
          "iopub.execute_input": "2021-09-28T08:34:08.239043Z",
          "iopub.status.idle": "2021-09-28T08:34:08.313361Z",
          "shell.execute_reply.started": "2021-09-28T08:34:08.239016Z",
          "shell.execute_reply": "2021-09-28T08:34:08.312367Z"
        },
        "trusted": true,
        "colab": {
          "base_uri": "https://localhost:8080/",
          "height": 423
        },
        "id": "4Supm-q2xcjl",
        "outputId": "3e1f9e2c-c7f0-4bfe-939b-df9262b5897f"
      },
      "source": [
        "a=pd.read_csv('https://raw.githubusercontent.com/Manikandan-professional/Exploratory_Data_Analysis_of_Mercedes_Cars/main/merc.csv')\n",
        "a"
      ],
      "execution_count": 8,
      "outputs": [
        {
          "output_type": "execute_result",
          "data": {
            "text/html": [
              "<div>\n",
              "<style scoped>\n",
              "    .dataframe tbody tr th:only-of-type {\n",
              "        vertical-align: middle;\n",
              "    }\n",
              "\n",
              "    .dataframe tbody tr th {\n",
              "        vertical-align: top;\n",
              "    }\n",
              "\n",
              "    .dataframe thead th {\n",
              "        text-align: right;\n",
              "    }\n",
              "</style>\n",
              "<table border=\"1\" class=\"dataframe\">\n",
              "  <thead>\n",
              "    <tr style=\"text-align: right;\">\n",
              "      <th></th>\n",
              "      <th>model</th>\n",
              "      <th>year</th>\n",
              "      <th>price</th>\n",
              "      <th>transmission</th>\n",
              "      <th>mileage</th>\n",
              "      <th>fuelType</th>\n",
              "      <th>tax</th>\n",
              "      <th>mpg</th>\n",
              "      <th>engineSize</th>\n",
              "    </tr>\n",
              "  </thead>\n",
              "  <tbody>\n",
              "    <tr>\n",
              "      <th>0</th>\n",
              "      <td>SLK</td>\n",
              "      <td>2005</td>\n",
              "      <td>5200</td>\n",
              "      <td>Automatic</td>\n",
              "      <td>63000</td>\n",
              "      <td>Petrol</td>\n",
              "      <td>325</td>\n",
              "      <td>32.1</td>\n",
              "      <td>1.8</td>\n",
              "    </tr>\n",
              "    <tr>\n",
              "      <th>1</th>\n",
              "      <td>S Class</td>\n",
              "      <td>2017</td>\n",
              "      <td>34948</td>\n",
              "      <td>Automatic</td>\n",
              "      <td>27000</td>\n",
              "      <td>Hybrid</td>\n",
              "      <td>20</td>\n",
              "      <td>61.4</td>\n",
              "      <td>2.1</td>\n",
              "    </tr>\n",
              "    <tr>\n",
              "      <th>2</th>\n",
              "      <td>SL CLASS</td>\n",
              "      <td>2016</td>\n",
              "      <td>49948</td>\n",
              "      <td>Automatic</td>\n",
              "      <td>6200</td>\n",
              "      <td>Petrol</td>\n",
              "      <td>555</td>\n",
              "      <td>28.0</td>\n",
              "      <td>5.5</td>\n",
              "    </tr>\n",
              "    <tr>\n",
              "      <th>3</th>\n",
              "      <td>G Class</td>\n",
              "      <td>2016</td>\n",
              "      <td>61948</td>\n",
              "      <td>Automatic</td>\n",
              "      <td>16000</td>\n",
              "      <td>Petrol</td>\n",
              "      <td>325</td>\n",
              "      <td>30.4</td>\n",
              "      <td>4.0</td>\n",
              "    </tr>\n",
              "    <tr>\n",
              "      <th>4</th>\n",
              "      <td>G Class</td>\n",
              "      <td>2016</td>\n",
              "      <td>73948</td>\n",
              "      <td>Automatic</td>\n",
              "      <td>4000</td>\n",
              "      <td>Petrol</td>\n",
              "      <td>325</td>\n",
              "      <td>30.1</td>\n",
              "      <td>4.0</td>\n",
              "    </tr>\n",
              "    <tr>\n",
              "      <th>...</th>\n",
              "      <td>...</td>\n",
              "      <td>...</td>\n",
              "      <td>...</td>\n",
              "      <td>...</td>\n",
              "      <td>...</td>\n",
              "      <td>...</td>\n",
              "      <td>...</td>\n",
              "      <td>...</td>\n",
              "      <td>...</td>\n",
              "    </tr>\n",
              "    <tr>\n",
              "      <th>13114</th>\n",
              "      <td>C Class</td>\n",
              "      <td>2020</td>\n",
              "      <td>35999</td>\n",
              "      <td>Automatic</td>\n",
              "      <td>500</td>\n",
              "      <td>Diesel</td>\n",
              "      <td>145</td>\n",
              "      <td>55.4</td>\n",
              "      <td>2.0</td>\n",
              "    </tr>\n",
              "    <tr>\n",
              "      <th>13115</th>\n",
              "      <td>B Class</td>\n",
              "      <td>2020</td>\n",
              "      <td>24699</td>\n",
              "      <td>Automatic</td>\n",
              "      <td>2500</td>\n",
              "      <td>Diesel</td>\n",
              "      <td>145</td>\n",
              "      <td>55.4</td>\n",
              "      <td>2.0</td>\n",
              "    </tr>\n",
              "    <tr>\n",
              "      <th>13116</th>\n",
              "      <td>GLC Class</td>\n",
              "      <td>2019</td>\n",
              "      <td>30999</td>\n",
              "      <td>Automatic</td>\n",
              "      <td>11612</td>\n",
              "      <td>Diesel</td>\n",
              "      <td>145</td>\n",
              "      <td>41.5</td>\n",
              "      <td>2.1</td>\n",
              "    </tr>\n",
              "    <tr>\n",
              "      <th>13117</th>\n",
              "      <td>CLS Class</td>\n",
              "      <td>2019</td>\n",
              "      <td>37990</td>\n",
              "      <td>Automatic</td>\n",
              "      <td>2426</td>\n",
              "      <td>Diesel</td>\n",
              "      <td>145</td>\n",
              "      <td>45.6</td>\n",
              "      <td>2.0</td>\n",
              "    </tr>\n",
              "    <tr>\n",
              "      <th>13118</th>\n",
              "      <td>S Class</td>\n",
              "      <td>2019</td>\n",
              "      <td>54999</td>\n",
              "      <td>Automatic</td>\n",
              "      <td>2075</td>\n",
              "      <td>Diesel</td>\n",
              "      <td>145</td>\n",
              "      <td>52.3</td>\n",
              "      <td>2.9</td>\n",
              "    </tr>\n",
              "  </tbody>\n",
              "</table>\n",
              "<p>13119 rows × 9 columns</p>\n",
              "</div>"
            ],
            "text/plain": [
              "            model  year  price transmission  ...  fuelType  tax   mpg  engineSize\n",
              "0             SLK  2005   5200    Automatic  ...    Petrol  325  32.1         1.8\n",
              "1         S Class  2017  34948    Automatic  ...    Hybrid   20  61.4         2.1\n",
              "2        SL CLASS  2016  49948    Automatic  ...    Petrol  555  28.0         5.5\n",
              "3         G Class  2016  61948    Automatic  ...    Petrol  325  30.4         4.0\n",
              "4         G Class  2016  73948    Automatic  ...    Petrol  325  30.1         4.0\n",
              "...           ...   ...    ...          ...  ...       ...  ...   ...         ...\n",
              "13114     C Class  2020  35999    Automatic  ...    Diesel  145  55.4         2.0\n",
              "13115     B Class  2020  24699    Automatic  ...    Diesel  145  55.4         2.0\n",
              "13116   GLC Class  2019  30999    Automatic  ...    Diesel  145  41.5         2.1\n",
              "13117   CLS Class  2019  37990    Automatic  ...    Diesel  145  45.6         2.0\n",
              "13118     S Class  2019  54999    Automatic  ...    Diesel  145  52.3         2.9\n",
              "\n",
              "[13119 rows x 9 columns]"
            ]
          },
          "metadata": {},
          "execution_count": 8
        }
      ]
    },
    {
      "cell_type": "markdown",
      "metadata": {
        "id": "5EYorThJxcjm"
      },
      "source": [
        "# **Transforming the csv file to DataFrame**"
      ]
    },
    {
      "cell_type": "code",
      "metadata": {
        "execution": {
          "iopub.status.busy": "2021-09-28T08:34:08.314562Z",
          "iopub.execute_input": "2021-09-28T08:34:08.314811Z",
          "iopub.status.idle": "2021-09-28T08:34:08.340365Z",
          "shell.execute_reply.started": "2021-09-28T08:34:08.314784Z",
          "shell.execute_reply": "2021-09-28T08:34:08.339316Z"
        },
        "trusted": true,
        "colab": {
          "base_uri": "https://localhost:8080/",
          "height": 423
        },
        "id": "jWy7Zmayxcjm",
        "outputId": "ba0f6c79-eb8d-4c66-8046-d15302dbb30d"
      },
      "source": [
        "df=pd.DataFrame(a)\n",
        "df"
      ],
      "execution_count": 9,
      "outputs": [
        {
          "output_type": "execute_result",
          "data": {
            "text/html": [
              "<div>\n",
              "<style scoped>\n",
              "    .dataframe tbody tr th:only-of-type {\n",
              "        vertical-align: middle;\n",
              "    }\n",
              "\n",
              "    .dataframe tbody tr th {\n",
              "        vertical-align: top;\n",
              "    }\n",
              "\n",
              "    .dataframe thead th {\n",
              "        text-align: right;\n",
              "    }\n",
              "</style>\n",
              "<table border=\"1\" class=\"dataframe\">\n",
              "  <thead>\n",
              "    <tr style=\"text-align: right;\">\n",
              "      <th></th>\n",
              "      <th>model</th>\n",
              "      <th>year</th>\n",
              "      <th>price</th>\n",
              "      <th>transmission</th>\n",
              "      <th>mileage</th>\n",
              "      <th>fuelType</th>\n",
              "      <th>tax</th>\n",
              "      <th>mpg</th>\n",
              "      <th>engineSize</th>\n",
              "    </tr>\n",
              "  </thead>\n",
              "  <tbody>\n",
              "    <tr>\n",
              "      <th>0</th>\n",
              "      <td>SLK</td>\n",
              "      <td>2005</td>\n",
              "      <td>5200</td>\n",
              "      <td>Automatic</td>\n",
              "      <td>63000</td>\n",
              "      <td>Petrol</td>\n",
              "      <td>325</td>\n",
              "      <td>32.1</td>\n",
              "      <td>1.8</td>\n",
              "    </tr>\n",
              "    <tr>\n",
              "      <th>1</th>\n",
              "      <td>S Class</td>\n",
              "      <td>2017</td>\n",
              "      <td>34948</td>\n",
              "      <td>Automatic</td>\n",
              "      <td>27000</td>\n",
              "      <td>Hybrid</td>\n",
              "      <td>20</td>\n",
              "      <td>61.4</td>\n",
              "      <td>2.1</td>\n",
              "    </tr>\n",
              "    <tr>\n",
              "      <th>2</th>\n",
              "      <td>SL CLASS</td>\n",
              "      <td>2016</td>\n",
              "      <td>49948</td>\n",
              "      <td>Automatic</td>\n",
              "      <td>6200</td>\n",
              "      <td>Petrol</td>\n",
              "      <td>555</td>\n",
              "      <td>28.0</td>\n",
              "      <td>5.5</td>\n",
              "    </tr>\n",
              "    <tr>\n",
              "      <th>3</th>\n",
              "      <td>G Class</td>\n",
              "      <td>2016</td>\n",
              "      <td>61948</td>\n",
              "      <td>Automatic</td>\n",
              "      <td>16000</td>\n",
              "      <td>Petrol</td>\n",
              "      <td>325</td>\n",
              "      <td>30.4</td>\n",
              "      <td>4.0</td>\n",
              "    </tr>\n",
              "    <tr>\n",
              "      <th>4</th>\n",
              "      <td>G Class</td>\n",
              "      <td>2016</td>\n",
              "      <td>73948</td>\n",
              "      <td>Automatic</td>\n",
              "      <td>4000</td>\n",
              "      <td>Petrol</td>\n",
              "      <td>325</td>\n",
              "      <td>30.1</td>\n",
              "      <td>4.0</td>\n",
              "    </tr>\n",
              "    <tr>\n",
              "      <th>...</th>\n",
              "      <td>...</td>\n",
              "      <td>...</td>\n",
              "      <td>...</td>\n",
              "      <td>...</td>\n",
              "      <td>...</td>\n",
              "      <td>...</td>\n",
              "      <td>...</td>\n",
              "      <td>...</td>\n",
              "      <td>...</td>\n",
              "    </tr>\n",
              "    <tr>\n",
              "      <th>13114</th>\n",
              "      <td>C Class</td>\n",
              "      <td>2020</td>\n",
              "      <td>35999</td>\n",
              "      <td>Automatic</td>\n",
              "      <td>500</td>\n",
              "      <td>Diesel</td>\n",
              "      <td>145</td>\n",
              "      <td>55.4</td>\n",
              "      <td>2.0</td>\n",
              "    </tr>\n",
              "    <tr>\n",
              "      <th>13115</th>\n",
              "      <td>B Class</td>\n",
              "      <td>2020</td>\n",
              "      <td>24699</td>\n",
              "      <td>Automatic</td>\n",
              "      <td>2500</td>\n",
              "      <td>Diesel</td>\n",
              "      <td>145</td>\n",
              "      <td>55.4</td>\n",
              "      <td>2.0</td>\n",
              "    </tr>\n",
              "    <tr>\n",
              "      <th>13116</th>\n",
              "      <td>GLC Class</td>\n",
              "      <td>2019</td>\n",
              "      <td>30999</td>\n",
              "      <td>Automatic</td>\n",
              "      <td>11612</td>\n",
              "      <td>Diesel</td>\n",
              "      <td>145</td>\n",
              "      <td>41.5</td>\n",
              "      <td>2.1</td>\n",
              "    </tr>\n",
              "    <tr>\n",
              "      <th>13117</th>\n",
              "      <td>CLS Class</td>\n",
              "      <td>2019</td>\n",
              "      <td>37990</td>\n",
              "      <td>Automatic</td>\n",
              "      <td>2426</td>\n",
              "      <td>Diesel</td>\n",
              "      <td>145</td>\n",
              "      <td>45.6</td>\n",
              "      <td>2.0</td>\n",
              "    </tr>\n",
              "    <tr>\n",
              "      <th>13118</th>\n",
              "      <td>S Class</td>\n",
              "      <td>2019</td>\n",
              "      <td>54999</td>\n",
              "      <td>Automatic</td>\n",
              "      <td>2075</td>\n",
              "      <td>Diesel</td>\n",
              "      <td>145</td>\n",
              "      <td>52.3</td>\n",
              "      <td>2.9</td>\n",
              "    </tr>\n",
              "  </tbody>\n",
              "</table>\n",
              "<p>13119 rows × 9 columns</p>\n",
              "</div>"
            ],
            "text/plain": [
              "            model  year  price transmission  ...  fuelType  tax   mpg  engineSize\n",
              "0             SLK  2005   5200    Automatic  ...    Petrol  325  32.1         1.8\n",
              "1         S Class  2017  34948    Automatic  ...    Hybrid   20  61.4         2.1\n",
              "2        SL CLASS  2016  49948    Automatic  ...    Petrol  555  28.0         5.5\n",
              "3         G Class  2016  61948    Automatic  ...    Petrol  325  30.4         4.0\n",
              "4         G Class  2016  73948    Automatic  ...    Petrol  325  30.1         4.0\n",
              "...           ...   ...    ...          ...  ...       ...  ...   ...         ...\n",
              "13114     C Class  2020  35999    Automatic  ...    Diesel  145  55.4         2.0\n",
              "13115     B Class  2020  24699    Automatic  ...    Diesel  145  55.4         2.0\n",
              "13116   GLC Class  2019  30999    Automatic  ...    Diesel  145  41.5         2.1\n",
              "13117   CLS Class  2019  37990    Automatic  ...    Diesel  145  45.6         2.0\n",
              "13118     S Class  2019  54999    Automatic  ...    Diesel  145  52.3         2.9\n",
              "\n",
              "[13119 rows x 9 columns]"
            ]
          },
          "metadata": {},
          "execution_count": 9
        }
      ]
    },
    {
      "cell_type": "code",
      "metadata": {
        "execution": {
          "iopub.status.busy": "2021-09-28T08:34:08.342512Z",
          "iopub.execute_input": "2021-09-28T08:34:08.343170Z",
          "iopub.status.idle": "2021-09-28T08:34:08.353940Z",
          "shell.execute_reply.started": "2021-09-28T08:34:08.343133Z",
          "shell.execute_reply": "2021-09-28T08:34:08.352933Z"
        },
        "trusted": true,
        "id": "7vCji0a4xcjn"
      },
      "source": [
        "df=df.rename(columns={'model':'Model','year':'Year','price':'Price','transmission':'Transmission','mileage':'Mileage','fuelType':'FuelType','tax':'Tax','mpg':'Miles_per_gallon','engineSize':'Engine_Size'})"
      ],
      "execution_count": 10,
      "outputs": []
    },
    {
      "cell_type": "markdown",
      "metadata": {
        "id": "6xWav7bkxcjn"
      },
      "source": [
        "# Analysis using Price"
      ]
    },
    {
      "cell_type": "code",
      "metadata": {
        "execution": {
          "iopub.status.busy": "2021-09-28T08:34:08.355150Z",
          "iopub.execute_input": "2021-09-28T08:34:08.355467Z",
          "iopub.status.idle": "2021-09-28T08:34:08.379431Z",
          "shell.execute_reply.started": "2021-09-28T08:34:08.355400Z",
          "shell.execute_reply": "2021-09-28T08:34:08.378200Z"
        },
        "trusted": true,
        "colab": {
          "base_uri": "https://localhost:8080/",
          "height": 423
        },
        "id": "vnKCALwDxcjn",
        "outputId": "3e68d834-2d06-4b88-f168-e2c599a490ce"
      },
      "source": [
        "model_price_Analysis_df=df[['Model','Price']]\n",
        "model_price_Analysis_df"
      ],
      "execution_count": 11,
      "outputs": [
        {
          "output_type": "execute_result",
          "data": {
            "text/html": [
              "<div>\n",
              "<style scoped>\n",
              "    .dataframe tbody tr th:only-of-type {\n",
              "        vertical-align: middle;\n",
              "    }\n",
              "\n",
              "    .dataframe tbody tr th {\n",
              "        vertical-align: top;\n",
              "    }\n",
              "\n",
              "    .dataframe thead th {\n",
              "        text-align: right;\n",
              "    }\n",
              "</style>\n",
              "<table border=\"1\" class=\"dataframe\">\n",
              "  <thead>\n",
              "    <tr style=\"text-align: right;\">\n",
              "      <th></th>\n",
              "      <th>Model</th>\n",
              "      <th>Price</th>\n",
              "    </tr>\n",
              "  </thead>\n",
              "  <tbody>\n",
              "    <tr>\n",
              "      <th>0</th>\n",
              "      <td>SLK</td>\n",
              "      <td>5200</td>\n",
              "    </tr>\n",
              "    <tr>\n",
              "      <th>1</th>\n",
              "      <td>S Class</td>\n",
              "      <td>34948</td>\n",
              "    </tr>\n",
              "    <tr>\n",
              "      <th>2</th>\n",
              "      <td>SL CLASS</td>\n",
              "      <td>49948</td>\n",
              "    </tr>\n",
              "    <tr>\n",
              "      <th>3</th>\n",
              "      <td>G Class</td>\n",
              "      <td>61948</td>\n",
              "    </tr>\n",
              "    <tr>\n",
              "      <th>4</th>\n",
              "      <td>G Class</td>\n",
              "      <td>73948</td>\n",
              "    </tr>\n",
              "    <tr>\n",
              "      <th>...</th>\n",
              "      <td>...</td>\n",
              "      <td>...</td>\n",
              "    </tr>\n",
              "    <tr>\n",
              "      <th>13114</th>\n",
              "      <td>C Class</td>\n",
              "      <td>35999</td>\n",
              "    </tr>\n",
              "    <tr>\n",
              "      <th>13115</th>\n",
              "      <td>B Class</td>\n",
              "      <td>24699</td>\n",
              "    </tr>\n",
              "    <tr>\n",
              "      <th>13116</th>\n",
              "      <td>GLC Class</td>\n",
              "      <td>30999</td>\n",
              "    </tr>\n",
              "    <tr>\n",
              "      <th>13117</th>\n",
              "      <td>CLS Class</td>\n",
              "      <td>37990</td>\n",
              "    </tr>\n",
              "    <tr>\n",
              "      <th>13118</th>\n",
              "      <td>S Class</td>\n",
              "      <td>54999</td>\n",
              "    </tr>\n",
              "  </tbody>\n",
              "</table>\n",
              "<p>13119 rows × 2 columns</p>\n",
              "</div>"
            ],
            "text/plain": [
              "            Model  Price\n",
              "0             SLK   5200\n",
              "1         S Class  34948\n",
              "2        SL CLASS  49948\n",
              "3         G Class  61948\n",
              "4         G Class  73948\n",
              "...           ...    ...\n",
              "13114     C Class  35999\n",
              "13115     B Class  24699\n",
              "13116   GLC Class  30999\n",
              "13117   CLS Class  37990\n",
              "13118     S Class  54999\n",
              "\n",
              "[13119 rows x 2 columns]"
            ]
          },
          "metadata": {},
          "execution_count": 11
        }
      ]
    },
    {
      "cell_type": "code",
      "metadata": {
        "execution": {
          "iopub.status.busy": "2021-09-28T08:34:08.381295Z",
          "iopub.execute_input": "2021-09-28T08:34:08.381992Z",
          "iopub.status.idle": "2021-09-28T08:34:34.336031Z",
          "shell.execute_reply.started": "2021-09-28T08:34:08.381945Z",
          "shell.execute_reply": "2021-09-28T08:34:34.335066Z"
        },
        "trusted": true,
        "colab": {
          "base_uri": "https://localhost:8080/",
          "height": 628
        },
        "id": "pi9XbLBSxcjo",
        "outputId": "f3c85d94-7855-49ab-e0de-e32e1e9996af"
      },
      "source": [
        "plt.figure(figsize=(20,8),dpi=80)\n",
        "ax=plt.axes()\n",
        "ax.set_facecolor('Black')\n",
        "plt.bar(model_price_Analysis_df['Model'],model_price_Analysis_df['Price'],color='white')\n",
        "plt.scatter(model_price_Analysis_df['Model'],model_price_Analysis_df['Price'],s=100,color='red')\n",
        "\n",
        "plt.title('Comparison with Model and Price in the given Dataset',color='blue',fontsize=25)\n",
        "plt.xticks(rotation=50,color='blue')\n",
        "plt.yticks(color='blue')\n",
        "plt.xlabel('Name of the Model',color='blue',fontsize=20)\n",
        "plt.ylabel('Price of the Specific Model',color='blue',fontsize=20)\n",
        "plt.show()"
      ],
      "execution_count": 12,
      "outputs": [
        {
          "output_type": "display_data",
          "data": {
            "image/png": "[encoded data removed]",
            "text/plain": [
              "<Figure size 1600x640 with 1 Axes>"
            ]
          },
          "metadata": {
            "needs_background": "light"
          }
        }
      ]
    },
    {
      "cell_type": "markdown",
      "metadata": {
        "id": "XjK4PSdrxcjp"
      },
      "source": [
        "# Analysis Using the Year"
      ]
    },
    {
      "cell_type": "code",
      "metadata": {
        "execution": {
          "iopub.status.busy": "2021-09-28T08:34:34.337393Z",
          "iopub.execute_input": "2021-09-28T08:34:34.337720Z",
          "iopub.status.idle": "2021-09-28T08:34:34.353486Z",
          "shell.execute_reply.started": "2021-09-28T08:34:34.337691Z",
          "shell.execute_reply": "2021-09-28T08:34:34.352319Z"
        },
        "trusted": true,
        "colab": {
          "base_uri": "https://localhost:8080/",
          "height": 423
        },
        "id": "dxhwTE7Dxcjp",
        "outputId": "e37e2bd3-8ce7-4fb7-c6ae-50ef284025a1"
      },
      "source": [
        "df[['Model','Year']]"
      ],
      "execution_count": 13,
      "outputs": [
        {
          "output_type": "execute_result",
          "data": {
            "text/html": [
              "<div>\n",
              "<style scoped>\n",
              "    .dataframe tbody tr th:only-of-type {\n",
              "        vertical-align: middle;\n",
              "    }\n",
              "\n",
              "    .dataframe tbody tr th {\n",
              "        vertical-align: top;\n",
              "    }\n",
              "\n",
              "    .dataframe thead th {\n",
              "        text-align: right;\n",
              "    }\n",
              "</style>\n",
              "<table border=\"1\" class=\"dataframe\">\n",
              "  <thead>\n",
              "    <tr style=\"text-align: right;\">\n",
              "      <th></th>\n",
              "      <th>Model</th>\n",
              "      <th>Year</th>\n",
              "    </tr>\n",
              "  </thead>\n",
              "  <tbody>\n",
              "    <tr>\n",
              "      <th>0</th>\n",
              "      <td>SLK</td>\n",
              "      <td>2005</td>\n",
              "    </tr>\n",
              "    <tr>\n",
              "      <th>1</th>\n",
              "      <td>S Class</td>\n",
              "      <td>2017</td>\n",
              "    </tr>\n",
              "    <tr>\n",
              "      <th>2</th>\n",
              "      <td>SL CLASS</td>\n",
              "      <td>2016</td>\n",
              "    </tr>\n",
              "    <tr>\n",
              "      <th>3</th>\n",
              "      <td>G Class</td>\n",
              "      <td>2016</td>\n",
              "    </tr>\n",
              "    <tr>\n",
              "      <th>4</th>\n",
              "      <td>G Class</td>\n",
              "      <td>2016</td>\n",
              "    </tr>\n",
              "    <tr>\n",
              "      <th>...</th>\n",
              "      <td>...</td>\n",
              "      <td>...</td>\n",
              "    </tr>\n",
              "    <tr>\n",
              "      <th>13114</th>\n",
              "      <td>C Class</td>\n",
              "      <td>2020</td>\n",
              "    </tr>\n",
              "    <tr>\n",
              "      <th>13115</th>\n",
              "      <td>B Class</td>\n",
              "      <td>2020</td>\n",
              "    </tr>\n",
              "    <tr>\n",
              "      <th>13116</th>\n",
              "      <td>GLC Class</td>\n",
              "      <td>2019</td>\n",
              "    </tr>\n",
              "    <tr>\n",
              "      <th>13117</th>\n",
              "      <td>CLS Class</td>\n",
              "      <td>2019</td>\n",
              "    </tr>\n",
              "    <tr>\n",
              "      <th>13118</th>\n",
              "      <td>S Class</td>\n",
              "      <td>2019</td>\n",
              "    </tr>\n",
              "  </tbody>\n",
              "</table>\n",
              "<p>13119 rows × 2 columns</p>\n",
              "</div>"
            ],
            "text/plain": [
              "            Model  Year\n",
              "0             SLK  2005\n",
              "1         S Class  2017\n",
              "2        SL CLASS  2016\n",
              "3         G Class  2016\n",
              "4         G Class  2016\n",
              "...           ...   ...\n",
              "13114     C Class  2020\n",
              "13115     B Class  2020\n",
              "13116   GLC Class  2019\n",
              "13117   CLS Class  2019\n",
              "13118     S Class  2019\n",
              "\n",
              "[13119 rows x 2 columns]"
            ]
          },
          "metadata": {},
          "execution_count": 13
        }
      ]
    },
    {
      "cell_type": "code",
      "metadata": {
        "execution": {
          "iopub.status.busy": "2021-09-28T08:34:34.354922Z",
          "iopub.execute_input": "2021-09-28T08:34:34.355181Z",
          "iopub.status.idle": "2021-09-28T08:34:34.384640Z",
          "shell.execute_reply.started": "2021-09-28T08:34:34.355154Z",
          "shell.execute_reply": "2021-09-28T08:34:34.383429Z"
        },
        "trusted": true,
        "colab": {
          "base_uri": "https://localhost:8080/",
          "height": 833
        },
        "id": "c-wAI6Z2xcjp",
        "outputId": "cce0b221-7400-409e-ccdf-c8b8b0a186f7"
      },
      "source": [
        "a=df['Year'].value_counts()\n",
        "b=pd.DataFrame(a)\n",
        "b"
      ],
      "execution_count": 14,
      "outputs": [
        {
          "output_type": "execute_result",
          "data": {
            "text/html": [
              "<div>\n",
              "<style scoped>\n",
              "    .dataframe tbody tr th:only-of-type {\n",
              "        vertical-align: middle;\n",
              "    }\n",
              "\n",
              "    .dataframe tbody tr th {\n",
              "        vertical-align: top;\n",
              "    }\n",
              "\n",
              "    .dataframe thead th {\n",
              "        text-align: right;\n",
              "    }\n",
              "</style>\n",
              "<table border=\"1\" class=\"dataframe\">\n",
              "  <thead>\n",
              "    <tr style=\"text-align: right;\">\n",
              "      <th></th>\n",
              "      <th>Year</th>\n",
              "    </tr>\n",
              "  </thead>\n",
              "  <tbody>\n",
              "    <tr>\n",
              "      <th>2019</th>\n",
              "      <td>4553</td>\n",
              "    </tr>\n",
              "    <tr>\n",
              "      <th>2017</th>\n",
              "      <td>2381</td>\n",
              "    </tr>\n",
              "    <tr>\n",
              "      <th>2016</th>\n",
              "      <td>1971</td>\n",
              "    </tr>\n",
              "    <tr>\n",
              "      <th>2018</th>\n",
              "      <td>1467</td>\n",
              "    </tr>\n",
              "    <tr>\n",
              "      <th>2015</th>\n",
              "      <td>991</td>\n",
              "    </tr>\n",
              "    <tr>\n",
              "      <th>2020</th>\n",
              "      <td>719</td>\n",
              "    </tr>\n",
              "    <tr>\n",
              "      <th>2014</th>\n",
              "      <td>491</td>\n",
              "    </tr>\n",
              "    <tr>\n",
              "      <th>2013</th>\n",
              "      <td>292</td>\n",
              "    </tr>\n",
              "    <tr>\n",
              "      <th>2012</th>\n",
              "      <td>57</td>\n",
              "    </tr>\n",
              "    <tr>\n",
              "      <th>2011</th>\n",
              "      <td>38</td>\n",
              "    </tr>\n",
              "    <tr>\n",
              "      <th>2010</th>\n",
              "      <td>38</td>\n",
              "    </tr>\n",
              "    <tr>\n",
              "      <th>2007</th>\n",
              "      <td>22</td>\n",
              "    </tr>\n",
              "    <tr>\n",
              "      <th>2009</th>\n",
              "      <td>17</td>\n",
              "    </tr>\n",
              "    <tr>\n",
              "      <th>2008</th>\n",
              "      <td>16</td>\n",
              "    </tr>\n",
              "    <tr>\n",
              "      <th>2004</th>\n",
              "      <td>13</td>\n",
              "    </tr>\n",
              "    <tr>\n",
              "      <th>2001</th>\n",
              "      <td>10</td>\n",
              "    </tr>\n",
              "    <tr>\n",
              "      <th>2005</th>\n",
              "      <td>9</td>\n",
              "    </tr>\n",
              "    <tr>\n",
              "      <th>2002</th>\n",
              "      <td>9</td>\n",
              "    </tr>\n",
              "    <tr>\n",
              "      <th>2006</th>\n",
              "      <td>8</td>\n",
              "    </tr>\n",
              "    <tr>\n",
              "      <th>2003</th>\n",
              "      <td>7</td>\n",
              "    </tr>\n",
              "    <tr>\n",
              "      <th>1998</th>\n",
              "      <td>4</td>\n",
              "    </tr>\n",
              "    <tr>\n",
              "      <th>2000</th>\n",
              "      <td>3</td>\n",
              "    </tr>\n",
              "    <tr>\n",
              "      <th>1970</th>\n",
              "      <td>1</td>\n",
              "    </tr>\n",
              "    <tr>\n",
              "      <th>1999</th>\n",
              "      <td>1</td>\n",
              "    </tr>\n",
              "    <tr>\n",
              "      <th>1997</th>\n",
              "      <td>1</td>\n",
              "    </tr>\n",
              "  </tbody>\n",
              "</table>\n",
              "</div>"
            ],
            "text/plain": [
              "      Year\n",
              "2019  4553\n",
              "2017  2381\n",
              "2016  1971\n",
              "2018  1467\n",
              "2015   991\n",
              "2020   719\n",
              "2014   491\n",
              "2013   292\n",
              "2012    57\n",
              "2011    38\n",
              "2010    38\n",
              "2007    22\n",
              "2009    17\n",
              "2008    16\n",
              "2004    13\n",
              "2001    10\n",
              "2005     9\n",
              "2002     9\n",
              "2006     8\n",
              "2003     7\n",
              "1998     4\n",
              "2000     3\n",
              "1970     1\n",
              "1999     1\n",
              "1997     1"
            ]
          },
          "metadata": {},
          "execution_count": 14
        }
      ]
    },
    {
      "cell_type": "code",
      "metadata": {
        "execution": {
          "iopub.status.busy": "2021-09-28T08:34:34.386380Z",
          "iopub.execute_input": "2021-09-28T08:34:34.386767Z",
          "iopub.status.idle": "2021-09-28T08:34:34.714102Z",
          "shell.execute_reply.started": "2021-09-28T08:34:34.386722Z",
          "shell.execute_reply": "2021-09-28T08:34:34.713452Z"
        },
        "trusted": true,
        "colab": {
          "base_uri": "https://localhost:8080/",
          "height": 597
        },
        "id": "xdLcjPHkxcjq",
        "outputId": "136ac454-5e65-476a-dd85-5e8fa3ef1cd2"
      },
      "source": [
        "plt.figure(figsize=(16,8),dpi=80)\n",
        "ax=plt.axes()\n",
        "ax.set_facecolor('Black')\n",
        "plt.bar(b.index,b['Year'],color='white')\n",
        "plt.scatter(b.index,b['Year'],s=100,color='red')\n",
        "plt.title('Analysis of Year with No of Cars Released in various models in the particular Year',color='blue',fontsize=25)\n",
        "plt.xlabel('Year Range',color='blue',fontsize=20)\n",
        "plt.ylabel('No of Cars Released in various models',color='blue',fontsize=20)\n",
        "plt.xticks(color='blue',fontsize=20)\n",
        "plt.yticks(color='blue',fontsize=20)\n",
        "plt.show()"
      ],
      "execution_count": 15,
      "outputs": [
        {
          "output_type": "display_data",
          "data": {
            "image/png": "[encoded data removed]",
            "text/plain": [
              "<Figure size 1280x640 with 1 Axes>"
            ]
          },
          "metadata": {
            "needs_background": "light"
          }
        }
      ]
    },
    {
      "cell_type": "markdown",
      "metadata": {
        "id": "NQ4_uTitxcjq"
      },
      "source": [
        "**From the above bar graph, it shows the various releases of Mercedes Cars on the particular year.**\n",
        "\n",
        "**Years of Least Releases are: 1970, 1997, 1999 with each 1 unit.**\n",
        "\n",
        "**Highest Number of Releases are in 2019 with 4553 units respectively.**\n"
      ]
    },
    {
      "cell_type": "markdown",
      "metadata": {
        "id": "8eQRuIt5xcjr"
      },
      "source": [
        "# **Analysis of Model with Price**"
      ]
    },
    {
      "cell_type": "code",
      "metadata": {
        "execution": {
          "iopub.status.busy": "2021-09-28T08:34:34.715308Z",
          "iopub.execute_input": "2021-09-28T08:34:34.716534Z",
          "iopub.status.idle": "2021-09-28T08:34:34.730128Z",
          "shell.execute_reply.started": "2021-09-28T08:34:34.716491Z",
          "shell.execute_reply": "2021-09-28T08:34:34.729258Z"
        },
        "trusted": true,
        "colab": {
          "base_uri": "https://localhost:8080/",
          "height": 423
        },
        "id": "Ft6AUpNzxcjr",
        "outputId": "12db35e8-2a3f-44ab-e4fd-20204adee472"
      },
      "source": [
        "df[['Model','Price']]"
      ],
      "execution_count": 16,
      "outputs": [
        {
          "output_type": "execute_result",
          "data": {
            "text/html": [
              "<div>\n",
              "<style scoped>\n",
              "    .dataframe tbody tr th:only-of-type {\n",
              "        vertical-align: middle;\n",
              "    }\n",
              "\n",
              "    .dataframe tbody tr th {\n",
              "        vertical-align: top;\n",
              "    }\n",
              "\n",
              "    .dataframe thead th {\n",
              "        text-align: right;\n",
              "    }\n",
              "</style>\n",
              "<table border=\"1\" class=\"dataframe\">\n",
              "  <thead>\n",
              "    <tr style=\"text-align: right;\">\n",
              "      <th></th>\n",
              "      <th>Model</th>\n",
              "      <th>Price</th>\n",
              "    </tr>\n",
              "  </thead>\n",
              "  <tbody>\n",
              "    <tr>\n",
              "      <th>0</th>\n",
              "      <td>SLK</td>\n",
              "      <td>5200</td>\n",
              "    </tr>\n",
              "    <tr>\n",
              "      <th>1</th>\n",
              "      <td>S Class</td>\n",
              "      <td>34948</td>\n",
              "    </tr>\n",
              "    <tr>\n",
              "      <th>2</th>\n",
              "      <td>SL CLASS</td>\n",
              "      <td>49948</td>\n",
              "    </tr>\n",
              "    <tr>\n",
              "      <th>3</th>\n",
              "      <td>G Class</td>\n",
              "      <td>61948</td>\n",
              "    </tr>\n",
              "    <tr>\n",
              "      <th>4</th>\n",
              "      <td>G Class</td>\n",
              "      <td>73948</td>\n",
              "    </tr>\n",
              "    <tr>\n",
              "      <th>...</th>\n",
              "      <td>...</td>\n",
              "      <td>...</td>\n",
              "    </tr>\n",
              "    <tr>\n",
              "      <th>13114</th>\n",
              "      <td>C Class</td>\n",
              "      <td>35999</td>\n",
              "    </tr>\n",
              "    <tr>\n",
              "      <th>13115</th>\n",
              "      <td>B Class</td>\n",
              "      <td>24699</td>\n",
              "    </tr>\n",
              "    <tr>\n",
              "      <th>13116</th>\n",
              "      <td>GLC Class</td>\n",
              "      <td>30999</td>\n",
              "    </tr>\n",
              "    <tr>\n",
              "      <th>13117</th>\n",
              "      <td>CLS Class</td>\n",
              "      <td>37990</td>\n",
              "    </tr>\n",
              "    <tr>\n",
              "      <th>13118</th>\n",
              "      <td>S Class</td>\n",
              "      <td>54999</td>\n",
              "    </tr>\n",
              "  </tbody>\n",
              "</table>\n",
              "<p>13119 rows × 2 columns</p>\n",
              "</div>"
            ],
            "text/plain": [
              "            Model  Price\n",
              "0             SLK   5200\n",
              "1         S Class  34948\n",
              "2        SL CLASS  49948\n",
              "3         G Class  61948\n",
              "4         G Class  73948\n",
              "...           ...    ...\n",
              "13114     C Class  35999\n",
              "13115     B Class  24699\n",
              "13116   GLC Class  30999\n",
              "13117   CLS Class  37990\n",
              "13118     S Class  54999\n",
              "\n",
              "[13119 rows x 2 columns]"
            ]
          },
          "metadata": {},
          "execution_count": 16
        }
      ]
    },
    {
      "cell_type": "code",
      "metadata": {
        "execution": {
          "iopub.status.busy": "2021-09-28T09:20:11.345168Z",
          "iopub.execute_input": "2021-09-28T09:20:11.345515Z",
          "iopub.status.idle": "2021-09-28T09:20:37.789496Z",
          "shell.execute_reply.started": "2021-09-28T09:20:11.345481Z",
          "shell.execute_reply": "2021-09-28T09:20:37.788349Z"
        },
        "trusted": true,
        "colab": {
          "base_uri": "https://localhost:8080/",
          "height": 628
        },
        "id": "OKmV6nhBxcjs",
        "outputId": "181bf5f0-624e-4e90-832a-208fddd2333a"
      },
      "source": [
        "plt.figure(figsize=(16,8),dpi=80)\n",
        "ax=plt.axes()\n",
        "ax.set_facecolor('black')\n",
        "plt.bar(df['Model'],df['Price'],color='white',width=0.3)\n",
        "plt.xticks(rotation=50,color='blue')\n",
        "plt.yticks(color='blue')\n",
        "plt.title('Model vs Price',color='blue',fontsize=25)\n",
        "plt.xlabel('Model',color='blue',fontsize=20)\n",
        "plt.ylabel('Price',color='blue',fontsize=20)\n",
        "\n",
        "plt.show()"
      ],
      "execution_count": 17,
      "outputs": [
        {
          "output_type": "display_data",
          "data": {
            "image/png": "[encoded data removed]",
            "text/plain": [
              "<Figure size 1280x640 with 1 Axes>"
            ]
          },
          "metadata": {
            "needs_background": "light"
          }
        }
      ]
    },
    {
      "cell_type": "markdown",
      "metadata": {
        "id": "cRXXULbdxcjs"
      },
      "source": [
        "# **Analysis with Transmission**"
      ]
    },
    {
      "cell_type": "code",
      "metadata": {
        "execution": {
          "iopub.status.busy": "2021-09-28T08:35:00.719230Z",
          "iopub.execute_input": "2021-09-28T08:35:00.719517Z",
          "iopub.status.idle": "2021-09-28T08:35:00.735903Z",
          "shell.execute_reply.started": "2021-09-28T08:35:00.719479Z",
          "shell.execute_reply": "2021-09-28T08:35:00.734770Z"
        },
        "trusted": true,
        "colab": {
          "base_uri": "https://localhost:8080/",
          "height": 423
        },
        "id": "BfY6HHNbxcjt",
        "outputId": "06ef5a0c-fc62-46f2-f52a-e8c1b72163ed"
      },
      "source": [
        "df[['Model','Price','Transmission']]"
      ],
      "execution_count": 18,
      "outputs": [
        {
          "output_type": "execute_result",
          "data": {
            "text/html": [
              "<div>\n",
              "<style scoped>\n",
              "    .dataframe tbody tr th:only-of-type {\n",
              "        vertical-align: middle;\n",
              "    }\n",
              "\n",
              "    .dataframe tbody tr th {\n",
              "        vertical-align: top;\n",
              "    }\n",
              "\n",
              "    .dataframe thead th {\n",
              "        text-align: right;\n",
              "    }\n",
              "</style>\n",
              "<table border=\"1\" class=\"dataframe\">\n",
              "  <thead>\n",
              "    <tr style=\"text-align: right;\">\n",
              "      <th></th>\n",
              "      <th>Model</th>\n",
              "      <th>Price</th>\n",
              "      <th>Transmission</th>\n",
              "    </tr>\n",
              "  </thead>\n",
              "  <tbody>\n",
              "    <tr>\n",
              "      <th>0</th>\n",
              "      <td>SLK</td>\n",
              "      <td>5200</td>\n",
              "      <td>Automatic</td>\n",
              "    </tr>\n",
              "    <tr>\n",
              "      <th>1</th>\n",
              "      <td>S Class</td>\n",
              "      <td>34948</td>\n",
              "      <td>Automatic</td>\n",
              "    </tr>\n",
              "    <tr>\n",
              "      <th>2</th>\n",
              "      <td>SL CLASS</td>\n",
              "      <td>49948</td>\n",
              "      <td>Automatic</td>\n",
              "    </tr>\n",
              "    <tr>\n",
              "      <th>3</th>\n",
              "      <td>G Class</td>\n",
              "      <td>61948</td>\n",
              "      <td>Automatic</td>\n",
              "    </tr>\n",
              "    <tr>\n",
              "      <th>4</th>\n",
              "      <td>G Class</td>\n",
              "      <td>73948</td>\n",
              "      <td>Automatic</td>\n",
              "    </tr>\n",
              "    <tr>\n",
              "      <th>...</th>\n",
              "      <td>...</td>\n",
              "      <td>...</td>\n",
              "      <td>...</td>\n",
              "    </tr>\n",
              "    <tr>\n",
              "      <th>13114</th>\n",
              "      <td>C Class</td>\n",
              "      <td>35999</td>\n",
              "      <td>Automatic</td>\n",
              "    </tr>\n",
              "    <tr>\n",
              "      <th>13115</th>\n",
              "      <td>B Class</td>\n",
              "      <td>24699</td>\n",
              "      <td>Automatic</td>\n",
              "    </tr>\n",
              "    <tr>\n",
              "      <th>13116</th>\n",
              "      <td>GLC Class</td>\n",
              "      <td>30999</td>\n",
              "      <td>Automatic</td>\n",
              "    </tr>\n",
              "    <tr>\n",
              "      <th>13117</th>\n",
              "      <td>CLS Class</td>\n",
              "      <td>37990</td>\n",
              "      <td>Automatic</td>\n",
              "    </tr>\n",
              "    <tr>\n",
              "      <th>13118</th>\n",
              "      <td>S Class</td>\n",
              "      <td>54999</td>\n",
              "      <td>Automatic</td>\n",
              "    </tr>\n",
              "  </tbody>\n",
              "</table>\n",
              "<p>13119 rows × 3 columns</p>\n",
              "</div>"
            ],
            "text/plain": [
              "            Model  Price Transmission\n",
              "0             SLK   5200    Automatic\n",
              "1         S Class  34948    Automatic\n",
              "2        SL CLASS  49948    Automatic\n",
              "3         G Class  61948    Automatic\n",
              "4         G Class  73948    Automatic\n",
              "...           ...    ...          ...\n",
              "13114     C Class  35999    Automatic\n",
              "13115     B Class  24699    Automatic\n",
              "13116   GLC Class  30999    Automatic\n",
              "13117   CLS Class  37990    Automatic\n",
              "13118     S Class  54999    Automatic\n",
              "\n",
              "[13119 rows x 3 columns]"
            ]
          },
          "metadata": {},
          "execution_count": 18
        }
      ]
    },
    {
      "cell_type": "code",
      "metadata": {
        "execution": {
          "iopub.status.busy": "2021-09-28T08:35:00.738646Z",
          "iopub.execute_input": "2021-09-28T08:35:00.738911Z",
          "iopub.status.idle": "2021-09-28T08:35:00.762791Z",
          "shell.execute_reply.started": "2021-09-28T08:35:00.738883Z",
          "shell.execute_reply": "2021-09-28T08:35:00.761574Z"
        },
        "trusted": true,
        "colab": {
          "base_uri": "https://localhost:8080/"
        },
        "id": "Ox6jAb8vxcjt",
        "outputId": "256ddb65-f04b-4607-b2a4-1006a92271da"
      },
      "source": [
        "df['Transmission'].value_counts()"
      ],
      "execution_count": 19,
      "outputs": [
        {
          "output_type": "execute_result",
          "data": {
            "text/plain": [
              "Semi-Auto    6848\n",
              "Automatic    4825\n",
              "Manual       1444\n",
              "Other           2\n",
              "Name: Transmission, dtype: int64"
            ]
          },
          "metadata": {},
          "execution_count": 19
        }
      ]
    },
    {
      "cell_type": "code",
      "metadata": {
        "execution": {
          "iopub.status.busy": "2021-09-28T08:35:00.764542Z",
          "iopub.execute_input": "2021-09-28T08:35:00.764960Z",
          "iopub.status.idle": "2021-09-28T08:35:00.780939Z",
          "shell.execute_reply.started": "2021-09-28T08:35:00.764895Z",
          "shell.execute_reply": "2021-09-28T08:35:00.779820Z"
        },
        "trusted": true,
        "colab": {
          "base_uri": "https://localhost:8080/"
        },
        "id": "Vs1_Oizzxcjt",
        "outputId": "1fac35f5-33bb-4e38-c80d-adbd5fd3e745"
      },
      "source": [
        "print(df['Transmission'].value_counts())\n",
        "print(df['Price'].min())\n",
        "print(df['Price'].max())"
      ],
      "execution_count": 20,
      "outputs": [
        {
          "output_type": "stream",
          "name": "stdout",
          "text": [
            "Semi-Auto    6848\n",
            "Automatic    4825\n",
            "Manual       1444\n",
            "Other           2\n",
            "Name: Transmission, dtype: int64\n",
            "650\n",
            "159999\n"
          ]
        }
      ]
    },
    {
      "cell_type": "code",
      "metadata": {
        "execution": {
          "iopub.status.busy": "2021-09-28T09:21:18.786059Z",
          "iopub.execute_input": "2021-09-28T09:21:18.786436Z",
          "iopub.status.idle": "2021-09-28T09:21:18.959683Z",
          "shell.execute_reply.started": "2021-09-28T09:21:18.786406Z",
          "shell.execute_reply": "2021-09-28T09:21:18.958521Z"
        },
        "trusted": true,
        "colab": {
          "base_uri": "https://localhost:8080/",
          "height": 544
        },
        "id": "KbCSZxYAxcju",
        "outputId": "6d15412d-a7ac-4229-aac4-fa65c6bcd89c"
      },
      "source": [
        "plt.figure(figsize=(16,8),dpi=80)\n",
        "aa=pd.DataFrame({'Semi-Auto':6848,'Automatic':4825,'Manual':1444,'Other':2},index=[0]).T\n",
        "plt.pie(x=aa[0],explode=(0.1,0.1,0.1,0.1),autopct='%1.1f%%',shadow=True,startangle=360)\n",
        "plt.title('Exploration on percentage of Cars of various Transmission',fontsize=25,color='blue')\n",
        "plt.show()"
      ],
      "execution_count": 21,
      "outputs": [
        {
          "output_type": "display_data",
          "data": {
            "image/png": "[encoded data removed]",
            "text/plain": [
              "<Figure size 1280x640 with 1 Axes>"
            ]
          },
          "metadata": {}
        }
      ]
    },
    {
      "cell_type": "code",
      "metadata": {
        "execution": {
          "iopub.status.busy": "2021-09-28T09:23:47.725864Z",
          "iopub.execute_input": "2021-09-28T09:23:47.726192Z",
          "iopub.status.idle": "2021-09-28T09:23:47.991507Z",
          "shell.execute_reply.started": "2021-09-28T09:23:47.726158Z",
          "shell.execute_reply": "2021-09-28T09:23:47.990294Z"
        },
        "trusted": true,
        "colab": {
          "base_uri": "https://localhost:8080/",
          "height": 587
        },
        "id": "B11gNpGTxcju",
        "outputId": "4ef2d0e6-a591-4504-9b97-75e011cb0198"
      },
      "source": [
        "plt.figure(figsize=(16,8),dpi=80)\n",
        "ax=plt.axes()\n",
        "ax.set_facecolor('black')\n",
        "plt.bar(aa.index,aa[0],color='white',width=0.01)\n",
        "plt.plot(aa.index,aa[0],color='white')\n",
        "plt.scatter(aa.index,aa[0],color='red',s=100)\n",
        "plt.xlabel('Transmission Models',fontsize=20)\n",
        "plt.ylabel('Number of units Released',fontsize=20)\n",
        "plt.title('Transmission Models vs Number of units Released',fontsize=25)\n",
        "plt.show()"
      ],
      "execution_count": 22,
      "outputs": [
        {
          "output_type": "display_data",
          "data": {
            "image/png": "[encoded data removed]",
            "text/plain": [
              "<Figure size 1280x640 with 1 Axes>"
            ]
          },
          "metadata": {
            "needs_background": "light"
          }
        }
      ]
    },
    {
      "cell_type": "markdown",
      "metadata": {
        "id": "pkSTzOhVxcjv"
      },
      "source": [
        "The highest number of cars which are manufactured by Mecedes are Semi-Automatic and Least are Manual. Other is omitted because it has only 2 units manufactured as this can be considered as a test case.\n",
        "\n",
        "Semi-Auto-->6848 units\n",
        "\n",
        "Automatic-->4825 units\n",
        "\n",
        "Manual-->1444 units\n",
        "\n",
        "Other-->2 units"
      ]
    },
    {
      "cell_type": "code",
      "metadata": {
        "execution": {
          "iopub.status.busy": "2021-09-28T09:24:10.435378Z",
          "iopub.execute_input": "2021-09-28T09:24:10.436670Z",
          "iopub.status.idle": "2021-09-28T09:24:10.445897Z",
          "shell.execute_reply.started": "2021-09-28T09:24:10.436620Z",
          "shell.execute_reply": "2021-09-28T09:24:10.444537Z"
        },
        "trusted": true,
        "colab": {
          "base_uri": "https://localhost:8080/"
        },
        "id": "Xs7Wi0IKxcjv",
        "outputId": "eba2ac64-037b-4bd4-a5f1-b2f9f64dfcfc"
      },
      "source": [
        "Total_Number_of_units_manufactured=13119\n",
        "Semi_Auto=6848\n",
        "\n",
        "Automatic=4825\n",
        "\n",
        "Manual=1444\n",
        "\n",
        "Other=2\n",
        "print('Percentage of Semi-Automatic Mercedes Cars is:',(Semi_Auto/Total_Number_of_units_manufactured)*100)\n",
        "print()\n",
        "print('Percentage of Automatic Mercedes Cars is:',(Automatic/Total_Number_of_units_manufactured)*100)\n",
        "print()\n",
        "print('Percentage of Manual Mercedes Cars is:',(Manual/Total_Number_of_units_manufactured)*100)\n",
        "print()\n",
        "print('Percentage of Other Mercedes Cars is:',(Other/Total_Number_of_units_manufactured)*100)"
      ],
      "execution_count": 23,
      "outputs": [
        {
          "output_type": "stream",
          "name": "stdout",
          "text": [
            "Percentage of Semi-Automatic Mercedes Cars is: 52.19910054119978\n",
            "\n",
            "Percentage of Automatic Mercedes Cars is: 36.77871789008309\n",
            "\n",
            "Percentage of Manual Mercedes Cars is: 11.00693650430673\n",
            "\n",
            "Percentage of Other Mercedes Cars is: 0.015245064410397136\n"
          ]
        }
      ]
    },
    {
      "cell_type": "markdown",
      "metadata": {
        "id": "Jx4GNQ_Cxcjv"
      },
      "source": [
        "**Percentage of Semi-Automatic Mercedes Cars is: 52.19910054119978 %**\n",
        "\n",
        "**Percentage of Automatic Mercedes Cars is: 36.77871789008309 %**\n",
        "\n",
        "**Percentage of Manual Mercedes Cars is: 11.00693650430673 %**\n",
        "\n",
        "**Percentage of Other Mercedes Cars is: 0.015245064410397136 %**"
      ]
    },
    {
      "cell_type": "markdown",
      "metadata": {
        "id": "9QU244K9xcjw"
      },
      "source": [
        "**Difference between the Minimum Price car and Maximum Price Car**\n",
        "\n",
        "Most Important Features are\n",
        "\n",
        "-->Model Name: A Class     ********* -->Model Name: G Class\n",
        "\n",
        "-->Price of the Car: 650   ********* -->Price of the Car: 159999\n",
        "\n",
        "-->Engine Size: 1.4    ********* -->Miles_per_gallon: 4.0\n",
        "\n",
        "-->Transmission: Manual    ********* -->Transmission: Semi-Auto\n",
        "\n",
        "-->Miles_per_gallon: 40    ********* -->Miles_per_gallon: Manual\n",
        "\n",
        "-->Mileage: 109090    ********* -->Mileage: 1350\n",
        "\n",
        "-->Fuel Type: Petrol    ********* -->Fuel Type: Manual\n",
        "\n",
        "-->Tax: 235    ********* -->Tax: Manual\n",
        "\n",
        "-->Year of Release: 2003   ********* -->Year of Release: 2020\n",
        "\n",
        "On Analysis with Price it is suggested to buy a A class Car rather than spending on G class car as the price difference percentage of the car is ~99.50% higher than A Class car\n"
      ]
    },
    {
      "cell_type": "code",
      "metadata": {
        "execution": {
          "iopub.status.busy": "2021-09-28T09:24:33.566626Z",
          "iopub.execute_input": "2021-09-28T09:24:33.566955Z",
          "iopub.status.idle": "2021-09-28T09:24:33.575893Z",
          "shell.execute_reply.started": "2021-09-28T09:24:33.566920Z",
          "shell.execute_reply": "2021-09-28T09:24:33.574850Z"
        },
        "trusted": true,
        "colab": {
          "base_uri": "https://localhost:8080/"
        },
        "id": "wlJbRkrixcjw",
        "outputId": "00904f65-c496-474a-8e82-bc620a21313e"
      },
      "source": [
        "df[(df['Price'] == 159999) | (df['Price']==650)]\n",
        "g=159999-650\n",
        "print('Price of difference between A-class car and G-class car',g)\n",
        "print()\n",
        "print ('The percentage of difference in the amount is:',(g/159999)*100)"
      ],
      "execution_count": 24,
      "outputs": [
        {
          "output_type": "stream",
          "name": "stdout",
          "text": [
            "Price of difference between A-class car and G-class car 159349\n",
            "\n",
            "The percentage of difference in the amount is: 99.59374746092163\n"
          ]
        }
      ]
    },
    {
      "cell_type": "markdown",
      "metadata": {
        "id": "K-NkHodPxcjw"
      },
      "source": [
        "# **Correlation Map Identififer of important features**"
      ]
    },
    {
      "cell_type": "code",
      "metadata": {
        "execution": {
          "iopub.status.busy": "2021-09-28T09:25:10.090488Z",
          "iopub.execute_input": "2021-09-28T09:25:10.090812Z",
          "iopub.status.idle": "2021-09-28T09:25:10.632954Z",
          "shell.execute_reply.started": "2021-09-28T09:25:10.090777Z",
          "shell.execute_reply": "2021-09-28T09:25:10.631782Z"
        },
        "trusted": true,
        "colab": {
          "base_uri": "https://localhost:8080/",
          "height": 359
        },
        "id": "FrdYr-6-xcjw",
        "outputId": "f46810cc-71d7-4a6b-e3b7-4da9babf5f04"
      },
      "source": [
        "corrMatrix=df.corr()\n",
        "sns.heatmap(corrMatrix, annot=True)"
      ],
      "execution_count": 28,
      "outputs": [
        {
          "output_type": "execute_result",
          "data": {
            "text/plain": [
              "<matplotlib.axes._subplots.AxesSubplot at 0x7ff6726472d0>"
            ]
          },
          "metadata": {},
          "execution_count": 28
        },
        {
          "output_type": "display_data",
          "data": {
            "image/png": "[encoded data removed]",
            "text/plain": [
              "<Figure size 432x288 with 2 Axes>"
            ]
          },
          "metadata": {
            "needs_background": "light"
          }
        }
      ]
    },
    {
      "cell_type": "markdown",
      "metadata": {
        "id": "4v6DjwXqxcjx"
      },
      "source": [
        "Number of Good Correlation are as below:\n",
        "1) Year with Price, Year with tax\n",
        "\n",
        "2) Price with Engine_size, Price with Tax\n",
        "\n",
        "3) Mileage with Miles_per_gallon, Mileage with Engine_size"
      ]
    },
    {
      "cell_type": "markdown",
      "metadata": {
        "id": "qyyLGxVsxcjx"
      },
      "source": [
        "# **Analysis with Transmissions and Mileage**"
      ]
    },
    {
      "cell_type": "code",
      "metadata": {
        "execution": {
          "iopub.status.busy": "2021-09-28T09:00:28.745503Z",
          "iopub.execute_input": "2021-09-28T09:00:28.745867Z",
          "iopub.status.idle": "2021-09-28T09:00:28.782610Z",
          "shell.execute_reply.started": "2021-09-28T09:00:28.745831Z",
          "shell.execute_reply": "2021-09-28T09:00:28.781488Z"
        },
        "trusted": true,
        "colab": {
          "base_uri": "https://localhost:8080/"
        },
        "id": "G1iJxyiVxcjx",
        "outputId": "b333d763-135c-4b6e-80f3-ba3dc0a553c1"
      },
      "source": [
        "Semi_Auto_df=df[df['Transmission']=='Semi-Auto']\n",
        "Automatic_df=df[df['Transmission']=='Automatic']\n",
        "Manual_df=df[df['Transmission']=='Manual']\n",
        "Other=df[df['Transmission']=='Other']\n",
        "print(Semi_Auto_df[['Transmission','Mileage']])\n",
        "\n",
        "print(Automatic_df[['Transmission','Mileage']])\n",
        "print(Manual_df[['Transmission','Mileage']])\n",
        "print(Other[['Transmission','Mileage']])"
      ],
      "execution_count": 29,
      "outputs": [
        {
          "output_type": "stream",
          "name": "stdout",
          "text": [
            "      Transmission  Mileage\n",
            "84       Semi-Auto    14360\n",
            "91       Semi-Auto     9477\n",
            "142      Semi-Auto    21352\n",
            "143      Semi-Auto    33114\n",
            "144      Semi-Auto    28234\n",
            "...            ...      ...\n",
            "12054    Semi-Auto    32626\n",
            "12074    Semi-Auto    52000\n",
            "12783    Semi-Auto    84000\n",
            "13000    Semi-Auto    14289\n",
            "13035    Semi-Auto    14000\n",
            "\n",
            "[6848 rows x 2 columns]\n",
            "      Transmission  Mileage\n",
            "0        Automatic    63000\n",
            "1        Automatic    27000\n",
            "2        Automatic     6200\n",
            "3        Automatic    16000\n",
            "4        Automatic     4000\n",
            "...            ...      ...\n",
            "13114    Automatic      500\n",
            "13115    Automatic     2500\n",
            "13116    Automatic    11612\n",
            "13117    Automatic     2426\n",
            "13118    Automatic     2075\n",
            "\n",
            "[4825 rows x 2 columns]\n",
            "      Transmission  Mileage\n",
            "34          Manual     1173\n",
            "56          Manual    74000\n",
            "61          Manual    79000\n",
            "63          Manual   115000\n",
            "81          Manual    59147\n",
            "...            ...      ...\n",
            "13011       Manual    58518\n",
            "13014       Manual     5878\n",
            "13015       Manual    26000\n",
            "13024       Manual    16984\n",
            "13034       Manual    38172\n",
            "\n",
            "[1444 rows x 2 columns]\n",
            "      Transmission  Mileage\n",
            "9650         Other    30895\n",
            "12762        Other    39000\n"
          ]
        }
      ]
    },
    {
      "cell_type": "code",
      "metadata": {
        "execution": {
          "iopub.status.busy": "2021-09-28T09:18:23.570135Z",
          "iopub.execute_input": "2021-09-28T09:18:23.570535Z",
          "iopub.status.idle": "2021-09-28T09:18:23.591300Z",
          "shell.execute_reply.started": "2021-09-28T09:18:23.570485Z",
          "shell.execute_reply": "2021-09-28T09:18:23.589981Z"
        },
        "trusted": true,
        "colab": {
          "base_uri": "https://localhost:8080/"
        },
        "id": "zknNA-5lxcjx",
        "outputId": "318f8717-8aac-4e28-e5ce-a594113f6810"
      },
      "source": [
        "print('Average Mileage of Cars with Semi-Auto Transmission',np.mean(Semi_Auto_df['Mileage']))\n",
        "print('Min Mileage of Semi_Auto Transmission Cars',Semi_Auto_df['Mileage'].min())\n",
        "print('Max Mileage of Semi_Auto Transmission Cars',Semi_Auto_df['Mileage'].max())\n",
        "print('*******')\n",
        "print()\n",
        "print('Average Mileage of Cars with Automatic Transmission',np.mean(Automatic_df['Mileage']))\n",
        "print('Min Mileage of Automatic Transmission Cars',Automatic_df['Mileage'].min())\n",
        "print('Max Mileage of Automatic Transmission Cars',Automatic_df['Mileage'].max())\n",
        "print('*******')\n",
        "print()\n",
        "print('Average Mileage of Cars with Manual Transmission',np.mean(Manual_df['Mileage']))\n",
        "print('Min Mileage of Manual Transmission Cars',Manual_df['Mileage'].min())\n",
        "print('Max Mileage of Manual Transmission Cars',Manual_df['Mileage'].max())\n",
        "print('*******')\n",
        "print()\n",
        "print('Average Mileage of Cars with Other types Transmission',np.mean(Other['Mileage']))\n",
        "print('Min Mileage of Other types Transmission Cars',Other['Mileage'].min())\n",
        "print('Max Mileage of Other types Transmission Cars',Other['Mileage'].max())\n",
        "print('*******')"
      ],
      "execution_count": 30,
      "outputs": [
        {
          "output_type": "stream",
          "name": "stdout",
          "text": [
            "Average Mileage of Cars with Semi-Auto Transmission 16949.75992990654\n",
            "Min Mileage of Semi_Auto Transmission Cars 1\n",
            "Max Mileage of Semi_Auto Transmission Cars 165000\n",
            "*******\n",
            "\n",
            "Average Mileage of Cars with Automatic Transmission 25939.24414507772\n",
            "Min Mileage of Automatic Transmission Cars 9\n",
            "Max Mileage of Automatic Transmission Cars 259000\n",
            "*******\n",
            "\n",
            "Average Mileage of Cars with Manual Transmission 32311.330332409972\n",
            "Min Mileage of Manual Transmission Cars 9\n",
            "Max Mileage of Manual Transmission Cars 150000\n",
            "*******\n",
            "\n",
            "Average Mileage of Cars with Other types Transmission 34947.5\n",
            "Min Mileage of Other types Transmission Cars 30895\n",
            "Max Mileage of Other types Transmission Cars 39000\n",
            "*******\n"
          ]
        }
      ]
    },
    {
      "cell_type": "markdown",
      "metadata": {
        "id": "0T3yjTrzxcjy"
      },
      "source": [
        "# **Conclusion**"
      ]
    },
    {
      "cell_type": "markdown",
      "metadata": {
        "id": "b9S89Y4Rxcjy"
      },
      "source": [
        "**Mecedes Cars have manufactured highest number of Semi-Automatic Cars and testing cases of other transmission models of 2 units and least of which manual cars are launched.**\n",
        "\n",
        "**From this it is clear that Mecedes Cars are of innovation creators of transmission models and they are highly focussed on their transmission upgradation.**"
      ]
    },
    {
      "cell_type": "markdown",
      "metadata": {
        "id": "U4AGU6zoxcjy"
      },
      "source": [
        "# Thank you\n",
        "\n",
        "**If it is useful please click ^ button beside (Upvote for the notebook)**"
      ]
    }
  ]
}
